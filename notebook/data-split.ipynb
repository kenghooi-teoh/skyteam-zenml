{
 "cells": [
  {
   "cell_type": "code",
   "execution_count": 16,
   "metadata": {},
   "outputs": [],
   "source": [
    "import pandas as pd\n",
    "import numpy as np"
   ]
  },
  {
   "cell_type": "code",
   "execution_count": 17,
   "metadata": {},
   "outputs": [],
   "source": [
    "data = pd.read_parquet('./data/train.parquet')"
   ]
  },
  {
   "cell_type": "code",
   "execution_count": 18,
   "metadata": {},
   "outputs": [],
   "source": [
    "NAN_VALUE = -127 \n",
    "data = data.fillna(NAN_VALUE) "
   ]
  },
  {
   "cell_type": "code",
   "execution_count": 19,
   "metadata": {},
   "outputs": [
    {
     "data": {
      "text/plain": [
       "(5531451, 190)"
      ]
     },
     "execution_count": 19,
     "metadata": {},
     "output_type": "execute_result"
    }
   ],
   "source": [
    "data.shape"
   ]
  },
  {
   "cell_type": "code",
   "execution_count": 20,
   "metadata": {},
   "outputs": [
    {
     "data": {
      "text/plain": [
       "13    386034\n",
       "12     10623\n",
       "10      6721\n",
       "9       6411\n",
       "8       6110\n",
       "2       6098\n",
       "11      5961\n",
       "3       5778\n",
       "6       5515\n",
       "7       5198\n",
       "1       5120\n",
       "4       4673\n",
       "5       4671\n",
       "Name: customer_ID, dtype: int64"
      ]
     },
     "execution_count": 20,
     "metadata": {},
     "output_type": "execute_result"
    }
   ],
   "source": [
    "data['customer_ID'].value_counts().reset_index()['customer_ID'].value_counts()"
   ]
  },
  {
   "cell_type": "code",
   "execution_count": 21,
   "metadata": {},
   "outputs": [],
   "source": [
    "data_customer_13 = data.loc[data.groupby('customer_ID')['customer_ID'].transform(len) == 13]\n",
    "data_customer_not_13 = data.loc[data.groupby('customer_ID')['customer_ID'].transform(len) != 13]"
   ]
  },
  {
   "cell_type": "code",
   "execution_count": 22,
   "metadata": {},
   "outputs": [],
   "source": [
    "customer_IDs = data_customer_13['customer_ID'].unique()\n",
    "train_ids_size = int(len(customer_IDs) * 0.67)\n",
    "valid_ids_size = int(len(customer_IDs) * 0.03)\n",
    "other_ids_size = int(len(customer_IDs) * 0.3)\n",
    "\n",
    "selection = [train_ids_size, valid_ids_size, other_ids_size]\n",
    "\n",
    "customer_ids_split = np.split(customer_IDs, np.cumsum(selection))\n",
    "\n",
    "train_ids = customer_ids_split[0]\n",
    "valid_ids = customer_ids_split[1]\n",
    "other_ids = customer_ids_split[2]\n"
   ]
  },
  {
   "cell_type": "code",
   "execution_count": 23,
   "metadata": {},
   "outputs": [],
   "source": [
    "train_df = data_customer_13[data_customer_13['customer_ID'].isin(train_ids)]\n",
    "valid_df = data_customer_13[data_customer_13['customer_ID'].isin(valid_ids)]\n",
    "other_df = data_customer_13[data_customer_13['customer_ID'].isin(other_ids)]\n",
    "\n",
    "train_combined_df = pd.concat([train_df, data_customer_not_13], ignore_index=True)\n"
   ]
  },
  {
   "cell_type": "code",
   "execution_count": 24,
   "metadata": {},
   "outputs": [
    {
     "data": {
      "text/plain": [
       "((3362346, 190), (150553, 190), (1505530, 190), (3875355, 190))"
      ]
     },
     "execution_count": 24,
     "metadata": {},
     "output_type": "execute_result"
    }
   ],
   "source": [
    "train_df.shape, valid_df.shape, other_df.shape, train_combined_df.shape"
   ]
  },
  {
   "cell_type": "code",
   "execution_count": 25,
   "metadata": {},
   "outputs": [],
   "source": [
    "train_combined_df.to_parquet('./data/train_raw.parquet', index=False)\n",
    "valid_df.to_parquet('./data/valid_raw.parquet', index=False)\n",
    "other_df.to_parquet('./data/other_raw.parquet', index=False)\n"
   ]
  },
  {
   "cell_type": "code",
   "execution_count": 26,
   "metadata": {},
   "outputs": [],
   "source": [
    "importance_fea = ['P_2','D_39','D_42','D_43','D_46','D_47','B_1','B_3','B_4','B_5','B_9','B_11','B_14','S_3','S_12','R_1'] \n",
    "\n",
    "importance_fea_column = ['customer_ID','S_2'] + importance_fea\n",
    "\n",
    "train_combined_fea_df = train_combined_df[importance_fea_column]\n",
    "valid_fea_df = valid_df[importance_fea_column]\n",
    "other_fea_df = other_df[importance_fea_column]"
   ]
  },
  {
   "cell_type": "code",
   "execution_count": 27,
   "metadata": {},
   "outputs": [],
   "source": [
    "train_combined_fea_df.to_parquet('./data/train_importance_fea.parquet', index=False)\n",
    "valid_fea_df.to_parquet('./data/valid_importance_fea.parquet', index=False)\n",
    "other_fea_df.to_parquet('./data/other_importance_fea.parquet', index=False)\n"
   ]
  },
  {
   "cell_type": "code",
   "execution_count": null,
   "metadata": {},
   "outputs": [],
   "source": []
  }
 ],
 "metadata": {
  "kernelspec": {
   "display_name": "Python 3.8.13 ('zenml')",
   "language": "python",
   "name": "python3"
  },
  "language_info": {
   "codemirror_mode": {
    "name": "ipython",
    "version": 3
   },
   "file_extension": ".py",
   "mimetype": "text/x-python",
   "name": "python",
   "nbconvert_exporter": "python",
   "pygments_lexer": "ipython3",
   "version": "3.8.13"
  },
  "orig_nbformat": 4,
  "vscode": {
   "interpreter": {
    "hash": "c7d63cf505e04f71a6b7db31aa844d33a49e027d0056070a04ca6558310f6381"
   }
  }
 },
 "nbformat": 4,
 "nbformat_minor": 2
}
