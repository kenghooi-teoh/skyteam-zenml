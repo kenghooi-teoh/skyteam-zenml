{
 "cells": [
  {
   "cell_type": "code",
   "execution_count": 2,
   "metadata": {},
   "outputs": [],
   "source": [
    "import pandas as pd\n",
    "import numpy as np"
   ]
  },
  {
   "cell_type": "code",
   "execution_count": 8,
   "metadata": {},
   "outputs": [
    {
     "data": {
      "text/plain": [
       "['other_importance_fea.parquet',\n",
       " 'valid_raw.parquet',\n",
       " 'train.parquet',\n",
       " 'valid_importance_fea.parquet',\n",
       " 'train_importance_fea.parquet',\n",
       " 'train_labels.csv']"
      ]
     },
     "execution_count": 8,
     "metadata": {},
     "output_type": "execute_result"
    }
   ],
   "source": [
    "# import os\n",
    "os.listdir(\"./data/dataset\")"
   ]
  },
  {
   "cell_type": "code",
   "execution_count": 7,
   "metadata": {},
   "outputs": [
    {
     "ename": "FileNotFoundError",
     "evalue": "[Errno 2] No such file or directory: './data/datatset/valid_raw.parquet'",
     "output_type": "error",
     "traceback": [
      "\u001b[0;31m---------------------------------------------------------------------------\u001b[0m",
      "\u001b[0;31mFileNotFoundError\u001b[0m                         Traceback (most recent call last)",
      "Cell \u001b[0;32mIn [7], line 2\u001b[0m\n\u001b[1;32m      1\u001b[0m \u001b[38;5;66;03m# train_df = pd.read_parquet('./data/dataset/train.parquet')\u001b[39;00m\n\u001b[0;32m----> 2\u001b[0m valid_df \u001b[38;5;241m=\u001b[39m pd\u001b[38;5;241m.\u001b[39mread_parquet(\u001b[38;5;124m'\u001b[39m\u001b[38;5;124m./data/datatset/valid_raw.parquet\u001b[39m\u001b[38;5;124m'\u001b[39m)\n",
      "File \u001b[0;32m~/miniconda3/lib/python3.8/site-packages/pandas/io/parquet.py:501\u001b[0m, in \u001b[0;36mread_parquet\u001b[0;34m(path, engine, columns, storage_options, use_nullable_dtypes, **kwargs)\u001b[0m\n\u001b[1;32m    454\u001b[0m \u001b[38;5;124;03m\"\"\"\u001b[39;00m\n\u001b[1;32m    455\u001b[0m \u001b[38;5;124;03mLoad a parquet object from the file path, returning a DataFrame.\u001b[39;00m\n\u001b[1;32m    456\u001b[0m \n\u001b[0;32m   (...)\u001b[0m\n\u001b[1;32m    497\u001b[0m \u001b[38;5;124;03mDataFrame\u001b[39;00m\n\u001b[1;32m    498\u001b[0m \u001b[38;5;124;03m\"\"\"\u001b[39;00m\n\u001b[1;32m    499\u001b[0m impl \u001b[38;5;241m=\u001b[39m get_engine(engine)\n\u001b[0;32m--> 501\u001b[0m \u001b[38;5;28;01mreturn\u001b[39;00m \u001b[43mimpl\u001b[49m\u001b[38;5;241;43m.\u001b[39;49m\u001b[43mread\u001b[49m\u001b[43m(\u001b[49m\n\u001b[1;32m    502\u001b[0m \u001b[43m    \u001b[49m\u001b[43mpath\u001b[49m\u001b[43m,\u001b[49m\n\u001b[1;32m    503\u001b[0m \u001b[43m    \u001b[49m\u001b[43mcolumns\u001b[49m\u001b[38;5;241;43m=\u001b[39;49m\u001b[43mcolumns\u001b[49m\u001b[43m,\u001b[49m\n\u001b[1;32m    504\u001b[0m \u001b[43m    \u001b[49m\u001b[43mstorage_options\u001b[49m\u001b[38;5;241;43m=\u001b[39;49m\u001b[43mstorage_options\u001b[49m\u001b[43m,\u001b[49m\n\u001b[1;32m    505\u001b[0m \u001b[43m    \u001b[49m\u001b[43muse_nullable_dtypes\u001b[49m\u001b[38;5;241;43m=\u001b[39;49m\u001b[43muse_nullable_dtypes\u001b[49m\u001b[43m,\u001b[49m\n\u001b[1;32m    506\u001b[0m \u001b[43m    \u001b[49m\u001b[38;5;241;43m*\u001b[39;49m\u001b[38;5;241;43m*\u001b[39;49m\u001b[43mkwargs\u001b[49m\u001b[43m,\u001b[49m\n\u001b[1;32m    507\u001b[0m \u001b[43m\u001b[49m\u001b[43m)\u001b[49m\n",
      "File \u001b[0;32m~/miniconda3/lib/python3.8/site-packages/pandas/io/parquet.py:242\u001b[0m, in \u001b[0;36mPyArrowImpl.read\u001b[0;34m(self, path, columns, use_nullable_dtypes, storage_options, **kwargs)\u001b[0m\n\u001b[1;32m    239\u001b[0m \u001b[38;5;28;01mif\u001b[39;00m manager \u001b[38;5;241m==\u001b[39m \u001b[38;5;124m\"\u001b[39m\u001b[38;5;124marray\u001b[39m\u001b[38;5;124m\"\u001b[39m:\n\u001b[1;32m    240\u001b[0m     to_pandas_kwargs[\u001b[38;5;124m\"\u001b[39m\u001b[38;5;124msplit_blocks\u001b[39m\u001b[38;5;124m\"\u001b[39m] \u001b[38;5;241m=\u001b[39m \u001b[38;5;28;01mTrue\u001b[39;00m  \u001b[38;5;66;03m# type: ignore[assignment]\u001b[39;00m\n\u001b[0;32m--> 242\u001b[0m path_or_handle, handles, kwargs[\u001b[38;5;124m\"\u001b[39m\u001b[38;5;124mfilesystem\u001b[39m\u001b[38;5;124m\"\u001b[39m] \u001b[38;5;241m=\u001b[39m \u001b[43m_get_path_or_handle\u001b[49m\u001b[43m(\u001b[49m\n\u001b[1;32m    243\u001b[0m \u001b[43m    \u001b[49m\u001b[43mpath\u001b[49m\u001b[43m,\u001b[49m\n\u001b[1;32m    244\u001b[0m \u001b[43m    \u001b[49m\u001b[43mkwargs\u001b[49m\u001b[38;5;241;43m.\u001b[39;49m\u001b[43mpop\u001b[49m\u001b[43m(\u001b[49m\u001b[38;5;124;43m\"\u001b[39;49m\u001b[38;5;124;43mfilesystem\u001b[39;49m\u001b[38;5;124;43m\"\u001b[39;49m\u001b[43m,\u001b[49m\u001b[43m \u001b[49m\u001b[38;5;28;43;01mNone\u001b[39;49;00m\u001b[43m)\u001b[49m\u001b[43m,\u001b[49m\n\u001b[1;32m    245\u001b[0m \u001b[43m    \u001b[49m\u001b[43mstorage_options\u001b[49m\u001b[38;5;241;43m=\u001b[39;49m\u001b[43mstorage_options\u001b[49m\u001b[43m,\u001b[49m\n\u001b[1;32m    246\u001b[0m \u001b[43m    \u001b[49m\u001b[43mmode\u001b[49m\u001b[38;5;241;43m=\u001b[39;49m\u001b[38;5;124;43m\"\u001b[39;49m\u001b[38;5;124;43mrb\u001b[39;49m\u001b[38;5;124;43m\"\u001b[39;49m\u001b[43m,\u001b[49m\n\u001b[1;32m    247\u001b[0m \u001b[43m\u001b[49m\u001b[43m)\u001b[49m\n\u001b[1;32m    248\u001b[0m \u001b[38;5;28;01mtry\u001b[39;00m:\n\u001b[1;32m    249\u001b[0m     result \u001b[38;5;241m=\u001b[39m \u001b[38;5;28mself\u001b[39m\u001b[38;5;241m.\u001b[39mapi\u001b[38;5;241m.\u001b[39mparquet\u001b[38;5;241m.\u001b[39mread_table(\n\u001b[1;32m    250\u001b[0m         path_or_handle, columns\u001b[38;5;241m=\u001b[39mcolumns, \u001b[38;5;241m*\u001b[39m\u001b[38;5;241m*\u001b[39mkwargs\n\u001b[1;32m    251\u001b[0m     )\u001b[38;5;241m.\u001b[39mto_pandas(\u001b[38;5;241m*\u001b[39m\u001b[38;5;241m*\u001b[39mto_pandas_kwargs)\n",
      "File \u001b[0;32m~/miniconda3/lib/python3.8/site-packages/pandas/io/parquet.py:102\u001b[0m, in \u001b[0;36m_get_path_or_handle\u001b[0;34m(path, fs, storage_options, mode, is_dir)\u001b[0m\n\u001b[1;32m     92\u001b[0m handles \u001b[38;5;241m=\u001b[39m \u001b[38;5;28;01mNone\u001b[39;00m\n\u001b[1;32m     93\u001b[0m \u001b[38;5;28;01mif\u001b[39;00m (\n\u001b[1;32m     94\u001b[0m     \u001b[38;5;129;01mnot\u001b[39;00m fs\n\u001b[1;32m     95\u001b[0m     \u001b[38;5;129;01mand\u001b[39;00m \u001b[38;5;129;01mnot\u001b[39;00m is_dir\n\u001b[0;32m   (...)\u001b[0m\n\u001b[1;32m    100\u001b[0m     \u001b[38;5;66;03m# fsspec resources can also point to directories\u001b[39;00m\n\u001b[1;32m    101\u001b[0m     \u001b[38;5;66;03m# this branch is used for example when reading from non-fsspec URLs\u001b[39;00m\n\u001b[0;32m--> 102\u001b[0m     handles \u001b[38;5;241m=\u001b[39m \u001b[43mget_handle\u001b[49m\u001b[43m(\u001b[49m\n\u001b[1;32m    103\u001b[0m \u001b[43m        \u001b[49m\u001b[43mpath_or_handle\u001b[49m\u001b[43m,\u001b[49m\u001b[43m \u001b[49m\u001b[43mmode\u001b[49m\u001b[43m,\u001b[49m\u001b[43m \u001b[49m\u001b[43mis_text\u001b[49m\u001b[38;5;241;43m=\u001b[39;49m\u001b[38;5;28;43;01mFalse\u001b[39;49;00m\u001b[43m,\u001b[49m\u001b[43m \u001b[49m\u001b[43mstorage_options\u001b[49m\u001b[38;5;241;43m=\u001b[39;49m\u001b[43mstorage_options\u001b[49m\n\u001b[1;32m    104\u001b[0m \u001b[43m    \u001b[49m\u001b[43m)\u001b[49m\n\u001b[1;32m    105\u001b[0m     fs \u001b[38;5;241m=\u001b[39m \u001b[38;5;28;01mNone\u001b[39;00m\n\u001b[1;32m    106\u001b[0m     path_or_handle \u001b[38;5;241m=\u001b[39m handles\u001b[38;5;241m.\u001b[39mhandle\n",
      "File \u001b[0;32m~/miniconda3/lib/python3.8/site-packages/pandas/io/common.py:866\u001b[0m, in \u001b[0;36mget_handle\u001b[0;34m(path_or_buf, mode, encoding, compression, memory_map, is_text, errors, storage_options)\u001b[0m\n\u001b[1;32m    857\u001b[0m         handle \u001b[38;5;241m=\u001b[39m \u001b[38;5;28mopen\u001b[39m(\n\u001b[1;32m    858\u001b[0m             handle,\n\u001b[1;32m    859\u001b[0m             ioargs\u001b[38;5;241m.\u001b[39mmode,\n\u001b[0;32m   (...)\u001b[0m\n\u001b[1;32m    862\u001b[0m             newline\u001b[38;5;241m=\u001b[39m\u001b[38;5;124m\"\u001b[39m\u001b[38;5;124m\"\u001b[39m,\n\u001b[1;32m    863\u001b[0m         )\n\u001b[1;32m    864\u001b[0m     \u001b[38;5;28;01melse\u001b[39;00m:\n\u001b[1;32m    865\u001b[0m         \u001b[38;5;66;03m# Binary mode\u001b[39;00m\n\u001b[0;32m--> 866\u001b[0m         handle \u001b[38;5;241m=\u001b[39m \u001b[38;5;28;43mopen\u001b[39;49m\u001b[43m(\u001b[49m\u001b[43mhandle\u001b[49m\u001b[43m,\u001b[49m\u001b[43m \u001b[49m\u001b[43mioargs\u001b[49m\u001b[38;5;241;43m.\u001b[39;49m\u001b[43mmode\u001b[49m\u001b[43m)\u001b[49m\n\u001b[1;32m    867\u001b[0m     handles\u001b[38;5;241m.\u001b[39mappend(handle)\n\u001b[1;32m    869\u001b[0m \u001b[38;5;66;03m# Convert BytesIO or file objects passed with an encoding\u001b[39;00m\n",
      "\u001b[0;31mFileNotFoundError\u001b[0m: [Errno 2] No such file or directory: './data/datatset/valid_raw.parquet'"
     ]
    }
   ],
   "source": [
    "# train_df = pd.read_parquet('./data/dataset/train.parquet')\n",
    "valid_df = pd.read_parquet('./data/datatset/valid_raw.parquet')\n",
    "# targets = pd.read_csv('./data/dataset/train_labels.csv')"
   ]
  },
  {
   "cell_type": "code",
   "execution_count": 9,
   "metadata": {},
   "outputs": [],
   "source": [
    "def process_and_feature_engineer(df):\n",
    "    # FEATURE ENGINEERING FROM \n",
    "    # https://www.kaggle.com/code/huseyincot/amex-agg-data-how-it-created\n",
    "    all_cols = [c for c in list(df.columns) if c not in ['customer_ID','S_2']]\n",
    "    cat_features = [\"B_30\",\"B_38\",\"D_114\",\"D_116\",\"D_117\",\"D_120\",\"D_126\",\"D_63\",\"D_64\",\"D_66\",\"D_68\"]\n",
    "    num_features = [col for col in all_cols if col not in cat_features]\n",
    "    valid_cat_features = [fea for fea in cat_features if fea in all_cols]\n",
    "\n",
    "    test_num_agg = df.groupby(\"customer_ID\")[num_features].agg(['mean', 'std', 'min', 'max', 'last'])\n",
    "    test_num_agg.columns = ['_'.join(x) for x in test_num_agg.columns]\n",
    "\n",
    "    test_cat_agg = pd.DataFrame()\n",
    "    if len(valid_cat_features) != 0:\n",
    "        test_cat_agg = df.groupby(\"customer_ID\")[valid_cat_features].agg(['count', 'last', 'nunique'])\n",
    "        test_cat_agg.columns = ['_'.join(x) for x in test_cat_agg.columns]\n",
    "\n",
    "    df = pd.concat([test_num_agg, test_cat_agg], axis=1)\n",
    "    del test_num_agg, test_cat_agg\n",
    "    print('shape after engineering', df.shape )\n",
    "\n",
    "    return df\n",
    "    "
   ]
  },
  {
   "cell_type": "code",
   "execution_count": null,
   "metadata": {},
   "outputs": [],
   "source": [
    "train_fea = process_and_feature_engineer(train_df).reset_index()\n",
    "# valid_fea = process_and_feature_engineer(valid_df).reset_index()"
   ]
  },
  {
   "cell_type": "code",
   "execution_count": 27,
   "metadata": {},
   "outputs": [],
   "source": [
    "train_fea_label = pd.merge(train_fea, targets, left_on=\"customer_ID\", right_on=\"customer_ID\", how=\"left\")\n",
    "valid_fea_label = pd.merge(valid_fea, targets, left_on=\"customer_ID\", right_on=\"customer_ID\", how=\"left\")"
   ]
  },
  {
   "cell_type": "code",
   "execution_count": 29,
   "metadata": {},
   "outputs": [],
   "source": [
    "train_X = train_fea_label[train_fea_label.columns[1:-1]]\n",
    "train_y = train_fea_label[train_fea_label.columns[-1]]\n",
    "\n",
    "valid_X = valid_fea_label[valid_fea_label.columns[1:-1]]\n",
    "valid_y = valid_fea_label[valid_fea_label.columns[-1]]"
   ]
  },
  {
   "cell_type": "code",
   "execution_count": 18,
   "metadata": {},
   "outputs": [],
   "source": [
    "import xgboost as xgb\n",
    "SEED = 123"
   ]
  },
  {
   "cell_type": "code",
   "execution_count": 31,
   "metadata": {},
   "outputs": [],
   "source": [
    "train_dmatrix = xgb.DMatrix(data=train_X, label=train_y)\n",
    "valid_dmatrix = xgb.DMatrix(data=valid_X, label=valid_y)"
   ]
  },
  {
   "cell_type": "code",
   "execution_count": 19,
   "metadata": {},
   "outputs": [],
   "source": [
    "xgb_parms = { \n",
    "    'max_depth':4, \n",
    "    'learning_rate':0.05, \n",
    "    'subsample':0.8,\n",
    "    'colsample_bytree':0.6, \n",
    "    'eval_metric':'logloss',\n",
    "    'objective':'binary:logistic',\n",
    "    'random_state':SEED\n",
    "}"
   ]
  },
  {
   "cell_type": "code",
   "execution_count": 32,
   "metadata": {},
   "outputs": [
    {
     "name": "stdout",
     "output_type": "stream",
     "text": [
      "[0]\ttrain-logloss:0.66277\tvalid-logloss:0.66035\n",
      "[100]\ttrain-logloss:0.24618\tvalid-logloss:0.21620\n",
      "[200]\ttrain-logloss:0.23111\tvalid-logloss:0.20490\n",
      "[300]\ttrain-logloss:0.22479\tvalid-logloss:0.20172\n",
      "[400]\ttrain-logloss:0.22054\tvalid-logloss:0.20016\n",
      "[500]\ttrain-logloss:0.21714\tvalid-logloss:0.19941\n",
      "[600]\ttrain-logloss:0.21430\tvalid-logloss:0.19889\n",
      "[700]\ttrain-logloss:0.21162\tvalid-logloss:0.19853\n",
      "[800]\ttrain-logloss:0.20918\tvalid-logloss:0.19819\n",
      "[900]\ttrain-logloss:0.20703\tvalid-logloss:0.19807\n",
      "[1000]\ttrain-logloss:0.20495\tvalid-logloss:0.19779\n",
      "[1100]\ttrain-logloss:0.20282\tvalid-logloss:0.19751\n",
      "[1200]\ttrain-logloss:0.20085\tvalid-logloss:0.19740\n",
      "[1300]\ttrain-logloss:0.19886\tvalid-logloss:0.19726\n",
      "[1400]\ttrain-logloss:0.19701\tvalid-logloss:0.19730\n",
      "[1404]\ttrain-logloss:0.19694\tvalid-logloss:0.19727\n"
     ]
    }
   ],
   "source": [
    "model = xgb.train(xgb_parms, \n",
    "            dtrain=train_dmatrix,\n",
    "            evals=[(train_dmatrix,'train'),(valid_dmatrix,'valid')],\n",
    "            num_boost_round=9999,\n",
    "            early_stopping_rounds=100,\n",
    "            verbose_eval=100) "
   ]
  },
  {
   "cell_type": "code",
   "execution_count": 33,
   "metadata": {},
   "outputs": [],
   "source": [
    "def amex_metric_mod(y_true, y_pred):\n",
    "\n",
    "    labels     = np.transpose(np.array([y_true, y_pred]))\n",
    "    labels     = labels[labels[:, 1].argsort()[::-1]]\n",
    "    weights    = np.where(labels[:,0]==0, 20, 1)\n",
    "    cut_vals   = labels[np.cumsum(weights) <= int(0.04 * np.sum(weights))]\n",
    "    top_four   = np.sum(cut_vals[:,0]) / np.sum(labels[:,0])\n",
    "\n",
    "    gini = [0,0]\n",
    "    for i in [1,0]:\n",
    "        labels         = np.transpose(np.array([y_true, y_pred]))\n",
    "        labels         = labels[labels[:, i].argsort()[::-1]]\n",
    "        weight         = np.where(labels[:,0]==0, 20, 1)\n",
    "        weight_random  = np.cumsum(weight / np.sum(weight))\n",
    "        total_pos      = np.sum(labels[:, 0] *  weight)\n",
    "        cum_pos_found  = np.cumsum(labels[:, 0] * weight)\n",
    "        lorentz        = cum_pos_found / total_pos\n",
    "        gini[i]        = np.sum((lorentz - weight_random) * weight)\n",
    "\n",
    "    return 0.5 * (gini[1]/gini[0] + top_four)"
   ]
  },
  {
   "cell_type": "code",
   "execution_count": 39,
   "metadata": {},
   "outputs": [],
   "source": [
    "oof_preds = model.predict(valid_dmatrix)\n",
    "acc = amex_metric_mod(valid_y.values, oof_preds)"
   ]
  },
  {
   "cell_type": "code",
   "execution_count": 46,
   "metadata": {},
   "outputs": [],
   "source": [
    "valid_fea_label['oof_pred'] = oof_preds"
   ]
  },
  {
   "cell_type": "code",
   "execution_count": 47,
   "metadata": {},
   "outputs": [
    {
     "data": {
      "text/html": [
       "<div>\n",
       "<style scoped>\n",
       "    .dataframe tbody tr th:only-of-type {\n",
       "        vertical-align: middle;\n",
       "    }\n",
       "\n",
       "    .dataframe tbody tr th {\n",
       "        vertical-align: top;\n",
       "    }\n",
       "\n",
       "    .dataframe thead th {\n",
       "        text-align: right;\n",
       "    }\n",
       "</style>\n",
       "<table border=\"1\" class=\"dataframe\">\n",
       "  <thead>\n",
       "    <tr style=\"text-align: right;\">\n",
       "      <th></th>\n",
       "      <th>customer_ID</th>\n",
       "      <th>target</th>\n",
       "      <th>oof_pred</th>\n",
       "    </tr>\n",
       "  </thead>\n",
       "  <tbody>\n",
       "    <tr>\n",
       "      <th>0</th>\n",
       "      <td>ab411046bf88681c563a143a9f80bcbe49fbb862b35bb5...</td>\n",
       "      <td>0</td>\n",
       "      <td>0.071738</td>\n",
       "    </tr>\n",
       "    <tr>\n",
       "      <th>1</th>\n",
       "      <td>ab4120e3ce90b543b4ed8604afb5000ede7a791a40f470...</td>\n",
       "      <td>1</td>\n",
       "      <td>0.825575</td>\n",
       "    </tr>\n",
       "    <tr>\n",
       "      <th>2</th>\n",
       "      <td>ab41218ee2ff6eb0f1e04090b9cca1d79f661d35a7664e...</td>\n",
       "      <td>0</td>\n",
       "      <td>0.004924</td>\n",
       "    </tr>\n",
       "    <tr>\n",
       "      <th>3</th>\n",
       "      <td>ab4163fa084343482ce5068f4b6c54025506d0681e67de...</td>\n",
       "      <td>1</td>\n",
       "      <td>0.792298</td>\n",
       "    </tr>\n",
       "    <tr>\n",
       "      <th>4</th>\n",
       "      <td>ab417c9db4a92f0044ad92d8f7cfd8bf1abd323bf80927...</td>\n",
       "      <td>0</td>\n",
       "      <td>0.040354</td>\n",
       "    </tr>\n",
       "    <tr>\n",
       "      <th>...</th>\n",
       "      <td>...</td>\n",
       "      <td>...</td>\n",
       "      <td>...</td>\n",
       "    </tr>\n",
       "    <tr>\n",
       "      <th>11576</th>\n",
       "      <td>b2eb198ea9e6ef46d179129b859be4b15ed585b3aa5217...</td>\n",
       "      <td>1</td>\n",
       "      <td>0.671760</td>\n",
       "    </tr>\n",
       "    <tr>\n",
       "      <th>11577</th>\n",
       "      <td>b2eb1f22792d416e0e2d5259a0f9de71ef7d8d5a2f6266...</td>\n",
       "      <td>0</td>\n",
       "      <td>0.349649</td>\n",
       "    </tr>\n",
       "    <tr>\n",
       "      <th>11578</th>\n",
       "      <td>b2eb22124cbe18a9b49c38816be7f83e266276d283e4da...</td>\n",
       "      <td>0</td>\n",
       "      <td>0.000238</td>\n",
       "    </tr>\n",
       "    <tr>\n",
       "      <th>11579</th>\n",
       "      <td>b2eb3c26a7c1693a55df8989a6f8e9edbdf0b0c981e41f...</td>\n",
       "      <td>0</td>\n",
       "      <td>0.001855</td>\n",
       "    </tr>\n",
       "    <tr>\n",
       "      <th>11580</th>\n",
       "      <td>b2eb60003c0c63f3720f0ed19b646f5eea1cec9f937ef9...</td>\n",
       "      <td>0</td>\n",
       "      <td>0.001426</td>\n",
       "    </tr>\n",
       "  </tbody>\n",
       "</table>\n",
       "<p>11581 rows × 3 columns</p>\n",
       "</div>"
      ],
      "text/plain": [
       "                                             customer_ID  target  oof_pred\n",
       "0      ab411046bf88681c563a143a9f80bcbe49fbb862b35bb5...       0  0.071738\n",
       "1      ab4120e3ce90b543b4ed8604afb5000ede7a791a40f470...       1  0.825575\n",
       "2      ab41218ee2ff6eb0f1e04090b9cca1d79f661d35a7664e...       0  0.004924\n",
       "3      ab4163fa084343482ce5068f4b6c54025506d0681e67de...       1  0.792298\n",
       "4      ab417c9db4a92f0044ad92d8f7cfd8bf1abd323bf80927...       0  0.040354\n",
       "...                                                  ...     ...       ...\n",
       "11576  b2eb198ea9e6ef46d179129b859be4b15ed585b3aa5217...       1  0.671760\n",
       "11577  b2eb1f22792d416e0e2d5259a0f9de71ef7d8d5a2f6266...       0  0.349649\n",
       "11578  b2eb22124cbe18a9b49c38816be7f83e266276d283e4da...       0  0.000238\n",
       "11579  b2eb3c26a7c1693a55df8989a6f8e9edbdf0b0c981e41f...       0  0.001855\n",
       "11580  b2eb60003c0c63f3720f0ed19b646f5eea1cec9f937ef9...       0  0.001426\n",
       "\n",
       "[11581 rows x 3 columns]"
      ]
     },
     "execution_count": 47,
     "metadata": {},
     "output_type": "execute_result"
    }
   ],
   "source": [
    "valid_fea_label[['customer_ID','target','oof_pred']]\n"
   ]
  },
  {
   "cell_type": "code",
   "execution_count": 58,
   "metadata": {},
   "outputs": [],
   "source": [
    "# Feature importance\n",
    "\n",
    "fea_score = model.get_score(importance_type='weight')\n",
    "fea_importance = pd.DataFrame({'feature':fea_score.keys(),'importance':fea_score.values()}).sort_values('importance', ascending=False)"
   ]
  },
  {
   "cell_type": "code",
   "execution_count": 61,
   "metadata": {},
   "outputs": [
    {
     "data": {
      "image/png": "[encoded data removed]",
      "text/plain": [
       "<Figure size 1000x1000 with 1 Axes>"
      ]
     },
     "metadata": {},
     "output_type": "display_data"
    }
   ],
   "source": [
    "import matplotlib.pyplot as plt\n",
    "\n",
    "NUM_FEATURES = 20\n",
    "plt.figure(figsize=(10,5*NUM_FEATURES//10))\n",
    "plt.barh(np.arange(NUM_FEATURES,0,-1), fea_importance.importance.values[:NUM_FEATURES])\n",
    "plt.yticks(np.arange(NUM_FEATURES,0,-1), fea_importance.feature.values[:NUM_FEATURES])\n",
    "plt.title(f'XGB Feature Importance - Top {NUM_FEATURES}')\n",
    "plt.show()"
   ]
  },
  {
   "cell_type": "code",
   "execution_count": 72,
   "metadata": {},
   "outputs": [],
   "source": [
    "# importance_fea = ['P_2','D_39','B_3','B_4','S_3','D_42','B_5','D_46','D_47','R_1','B_1','D_43','S_12','B_11','B_9','B_14']\n",
    "importance_fea = ['P_2','D_39','D_42','D_43','D_46','D_47','B_1','B_3','B_4','B_5','B_9','B_11','B_14','S_3','S_12','R_1']"
   ]
  },
  {
   "cell_type": "code",
   "execution_count": 75,
   "metadata": {},
   "outputs": [],
   "source": [
    "train_df_new = train_df[['customer_ID'] + importance_fea]\n",
    "valid_df_new = valid_df[['customer_ID'] + importance_fea]"
   ]
  },
  {
   "cell_type": "code",
   "execution_count": 82,
   "metadata": {},
   "outputs": [
    {
     "name": "stdout",
     "output_type": "stream",
     "text": [
      "shape after engineering (331521, 80)\n",
      "shape after engineering (11581, 80)\n"
     ]
    }
   ],
   "source": [
    "train_fea_new = process_and_feature_engineer(train_df_new).reset_index()\n",
    "valid_fea_new = process_and_feature_engineer(valid_df_new).reset_index()"
   ]
  },
  {
   "cell_type": "code",
   "execution_count": 89,
   "metadata": {},
   "outputs": [],
   "source": [
    "train_fea_label_new = pd.merge(train_fea_new, targets, left_on=\"customer_ID\", right_on=\"customer_ID\", how=\"left\")\n",
    "valid_fea_label_new = pd.merge(valid_fea_new, targets, left_on=\"customer_ID\", right_on=\"customer_ID\", how=\"left\")"
   ]
  },
  {
   "cell_type": "code",
   "execution_count": 90,
   "metadata": {},
   "outputs": [],
   "source": [
    "train_X_new = train_fea_label_new[train_fea_label_new.columns[1:-1]]\n",
    "train_y_new = train_fea_label_new[train_fea_label_new.columns[-1]]\n",
    "\n",
    "valid_X_new = valid_fea_label_new[valid_fea_label_new.columns[1:-1]]\n",
    "valid_y_new = valid_fea_label_new[valid_fea_label_new.columns[-1]]"
   ]
  },
  {
   "cell_type": "code",
   "execution_count": 91,
   "metadata": {},
   "outputs": [],
   "source": [
    "train_dmatrix_new = xgb.DMatrix(data=train_X_new, label=train_y_new)\n",
    "valid_dmatrix_new = xgb.DMatrix(data=valid_X_new, label=valid_y_new)"
   ]
  },
  {
   "cell_type": "code",
   "execution_count": 92,
   "metadata": {},
   "outputs": [
    {
     "name": "stdout",
     "output_type": "stream",
     "text": [
      "[0]\ttrain-logloss:0.66385\tvalid-logloss:0.66127\n",
      "[100]\ttrain-logloss:0.25178\tvalid-logloss:0.22127\n",
      "[200]\ttrain-logloss:0.24083\tvalid-logloss:0.21303\n",
      "[300]\ttrain-logloss:0.23680\tvalid-logloss:0.21116\n",
      "[400]\ttrain-logloss:0.23423\tvalid-logloss:0.21010\n",
      "[500]\ttrain-logloss:0.23210\tvalid-logloss:0.20941\n",
      "[600]\ttrain-logloss:0.23025\tvalid-logloss:0.20910\n",
      "[700]\ttrain-logloss:0.22844\tvalid-logloss:0.20886\n",
      "[800]\ttrain-logloss:0.22680\tvalid-logloss:0.20875\n",
      "[900]\ttrain-logloss:0.22535\tvalid-logloss:0.20869\n",
      "[1000]\ttrain-logloss:0.22382\tvalid-logloss:0.20858\n",
      "[1100]\ttrain-logloss:0.22231\tvalid-logloss:0.20852\n",
      "[1200]\ttrain-logloss:0.22082\tvalid-logloss:0.20830\n",
      "[1300]\ttrain-logloss:0.21943\tvalid-logloss:0.20829\n",
      "[1366]\ttrain-logloss:0.21846\tvalid-logloss:0.20834\n"
     ]
    }
   ],
   "source": [
    "model_new = xgb.train(xgb_parms, \n",
    "            dtrain=train_dmatrix_new,\n",
    "            evals=[(train_dmatrix_new,'train'),(valid_dmatrix_new,'valid')],\n",
    "            num_boost_round=9999,\n",
    "            early_stopping_rounds=100,\n",
    "            verbose_eval=100) "
   ]
  },
  {
   "cell_type": "code",
   "execution_count": 94,
   "metadata": {},
   "outputs": [
    {
     "data": {
      "text/plain": [
       "0.7948165149392248"
      ]
     },
     "execution_count": 94,
     "metadata": {},
     "output_type": "execute_result"
    }
   ],
   "source": [
    "oof_preds_new = model_new.predict(valid_dmatrix_new)\n",
    "acc_new = amex_metric_mod(valid_y_new.values, oof_preds_new)\n",
    "\n",
    "acc_new"
   ]
  },
  {
   "cell_type": "code",
   "execution_count": 95,
   "metadata": {},
   "outputs": [
    {
     "data": {
      "text/html": [
       "<div>\n",
       "<style scoped>\n",
       "    .dataframe tbody tr th:only-of-type {\n",
       "        vertical-align: middle;\n",
       "    }\n",
       "\n",
       "    .dataframe tbody tr th {\n",
       "        vertical-align: top;\n",
       "    }\n",
       "\n",
       "    .dataframe thead th {\n",
       "        text-align: right;\n",
       "    }\n",
       "</style>\n",
       "<table border=\"1\" class=\"dataframe\">\n",
       "  <thead>\n",
       "    <tr style=\"text-align: right;\">\n",
       "      <th></th>\n",
       "      <th>customer_ID</th>\n",
       "      <th>target</th>\n",
       "      <th>oof_pred</th>\n",
       "    </tr>\n",
       "  </thead>\n",
       "  <tbody>\n",
       "    <tr>\n",
       "      <th>0</th>\n",
       "      <td>ab411046bf88681c563a143a9f80bcbe49fbb862b35bb5...</td>\n",
       "      <td>0</td>\n",
       "      <td>0.102235</td>\n",
       "    </tr>\n",
       "    <tr>\n",
       "      <th>1</th>\n",
       "      <td>ab4120e3ce90b543b4ed8604afb5000ede7a791a40f470...</td>\n",
       "      <td>1</td>\n",
       "      <td>0.812758</td>\n",
       "    </tr>\n",
       "    <tr>\n",
       "      <th>2</th>\n",
       "      <td>ab41218ee2ff6eb0f1e04090b9cca1d79f661d35a7664e...</td>\n",
       "      <td>0</td>\n",
       "      <td>0.002308</td>\n",
       "    </tr>\n",
       "    <tr>\n",
       "      <th>3</th>\n",
       "      <td>ab4163fa084343482ce5068f4b6c54025506d0681e67de...</td>\n",
       "      <td>1</td>\n",
       "      <td>0.674303</td>\n",
       "    </tr>\n",
       "    <tr>\n",
       "      <th>4</th>\n",
       "      <td>ab417c9db4a92f0044ad92d8f7cfd8bf1abd323bf80927...</td>\n",
       "      <td>0</td>\n",
       "      <td>0.025630</td>\n",
       "    </tr>\n",
       "    <tr>\n",
       "      <th>...</th>\n",
       "      <td>...</td>\n",
       "      <td>...</td>\n",
       "      <td>...</td>\n",
       "    </tr>\n",
       "    <tr>\n",
       "      <th>11576</th>\n",
       "      <td>b2eb198ea9e6ef46d179129b859be4b15ed585b3aa5217...</td>\n",
       "      <td>1</td>\n",
       "      <td>0.567753</td>\n",
       "    </tr>\n",
       "    <tr>\n",
       "      <th>11577</th>\n",
       "      <td>b2eb1f22792d416e0e2d5259a0f9de71ef7d8d5a2f6266...</td>\n",
       "      <td>0</td>\n",
       "      <td>0.690741</td>\n",
       "    </tr>\n",
       "    <tr>\n",
       "      <th>11578</th>\n",
       "      <td>b2eb22124cbe18a9b49c38816be7f83e266276d283e4da...</td>\n",
       "      <td>0</td>\n",
       "      <td>0.000473</td>\n",
       "    </tr>\n",
       "    <tr>\n",
       "      <th>11579</th>\n",
       "      <td>b2eb3c26a7c1693a55df8989a6f8e9edbdf0b0c981e41f...</td>\n",
       "      <td>0</td>\n",
       "      <td>0.003023</td>\n",
       "    </tr>\n",
       "    <tr>\n",
       "      <th>11580</th>\n",
       "      <td>b2eb60003c0c63f3720f0ed19b646f5eea1cec9f937ef9...</td>\n",
       "      <td>0</td>\n",
       "      <td>0.002697</td>\n",
       "    </tr>\n",
       "  </tbody>\n",
       "</table>\n",
       "<p>11581 rows × 3 columns</p>\n",
       "</div>"
      ],
      "text/plain": [
       "                                             customer_ID  target  oof_pred\n",
       "0      ab411046bf88681c563a143a9f80bcbe49fbb862b35bb5...       0  0.102235\n",
       "1      ab4120e3ce90b543b4ed8604afb5000ede7a791a40f470...       1  0.812758\n",
       "2      ab41218ee2ff6eb0f1e04090b9cca1d79f661d35a7664e...       0  0.002308\n",
       "3      ab4163fa084343482ce5068f4b6c54025506d0681e67de...       1  0.674303\n",
       "4      ab417c9db4a92f0044ad92d8f7cfd8bf1abd323bf80927...       0  0.025630\n",
       "...                                                  ...     ...       ...\n",
       "11576  b2eb198ea9e6ef46d179129b859be4b15ed585b3aa5217...       1  0.567753\n",
       "11577  b2eb1f22792d416e0e2d5259a0f9de71ef7d8d5a2f6266...       0  0.690741\n",
       "11578  b2eb22124cbe18a9b49c38816be7f83e266276d283e4da...       0  0.000473\n",
       "11579  b2eb3c26a7c1693a55df8989a6f8e9edbdf0b0c981e41f...       0  0.003023\n",
       "11580  b2eb60003c0c63f3720f0ed19b646f5eea1cec9f937ef9...       0  0.002697\n",
       "\n",
       "[11581 rows x 3 columns]"
      ]
     },
     "execution_count": 95,
     "metadata": {},
     "output_type": "execute_result"
    }
   ],
   "source": [
    "valid_fea_label_new['oof_pred'] = oof_preds_new\n",
    "\n",
    "valid_fea_label_new[['customer_ID','target','oof_pred']]"
   ]
  },
  {
   "cell_type": "code",
   "execution_count": null,
   "metadata": {},
   "outputs": [],
   "source": []
  }
 ],
 "metadata": {
  "kernelspec": {
   "display_name": "Python 3 (ipykernel)",
   "language": "python",
   "name": "python3"
  },
  "language_info": {
   "codemirror_mode": {
    "name": "ipython",
    "version": 3
   },
   "file_extension": ".py",
   "mimetype": "text/x-python",
   "name": "python",
   "nbconvert_exporter": "python",
   "pygments_lexer": "ipython3",
   "version": "3.8.3"
  },
  "vscode": {
   "interpreter": {
    "hash": "c7d63cf505e04f71a6b7db31aa844d33a49e027d0056070a04ca6558310f6381"
   }
  }
 },
 "nbformat": 4,
 "nbformat_minor": 2
}
